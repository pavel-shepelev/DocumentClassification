{
 "cells": [
  {
   "cell_type": "markdown",
   "metadata": {},
   "source": [
    "# Задание 1\n",
    "\n",
    "[Свертка списка](https://ru.wikipedia.org/wiki/%D0%A1%D0%B2%D1%91%D1%80%D1%82%D0%BA%D0%B0_%D1%81%D0%BF%D0%B8%D1%81%D0%BA%D0%B0) -  это обобщенная операция над списком, c помощью которой можно преобразовать список в единое значение. Например, рассмотрим реализации свертки слева и свертки справа (левоассоциативную свертку и правоассоциативную свертку):"
   ]
  },
  {
   "cell_type": "code",
   "execution_count": 36,
   "metadata": {
    "collapsed": true
   },
   "outputs": [],
   "source": [
    "def foldl(f, x0, lst):\n",
    "    if not lst:\n",
    "        return x0\n",
    "    return foldl(f, f(x0, lst[0]), lst[1:])\n",
    "\n",
    "def foldr(f, x0, lst):\n",
    "    if not lst:\n",
    "        return x0\n",
    "    return f(lst[0], foldr(f, x0, lst[1:]))"
   ]
  },
  {
   "cell_type": "code",
   "execution_count": 37,
   "metadata": {},
   "outputs": [
    {
     "data": {
      "text/plain": [
       "6"
      ]
     },
     "execution_count": 37,
     "metadata": {},
     "output_type": "execute_result"
    }
   ],
   "source": [
    "#сумма\n",
    "foldl(lambda x, y: x + y, 0, [1, 2, 3])"
   ]
  },
  {
   "cell_type": "code",
   "execution_count": 38,
   "metadata": {},
   "outputs": [
    {
     "data": {
      "text/plain": [
       "'123'"
      ]
     },
     "execution_count": 38,
     "metadata": {},
     "output_type": "execute_result"
    }
   ],
   "source": [
    "#конкатенация\n",
    "foldl(lambda x, y: '{}{}'.format(x, y), '', [1, 2, 3])"
   ]
  },
  {
   "cell_type": "code",
   "execution_count": 39,
   "metadata": {},
   "outputs": [
    {
     "data": {
      "text/plain": [
       "'123'"
      ]
     },
     "execution_count": 39,
     "metadata": {},
     "output_type": "execute_result"
    }
   ],
   "source": [
    "foldr(lambda x, y: '{}{}'.format(x, y), '', [1, 2, 3])"
   ]
  },
  {
   "cell_type": "code",
   "execution_count": 40,
   "metadata": {},
   "outputs": [
    {
     "data": {
      "text/plain": [
       "(0.16666666666666666, 1.5)"
      ]
     },
     "execution_count": 40,
     "metadata": {},
     "output_type": "execute_result"
    }
   ],
   "source": [
    "f = lambda x, y: x / y\n",
    "foldl(f, 1, [1, 2, 3]), \\\n",
    "foldr(f, 1, [1, 2, 3])"
   ]
  },
  {
   "cell_type": "markdown",
   "metadata": {},
   "source": [
    "Задача: реализовать foldl через foldr и наоборот. Вместо многоточий нужно вставить выражения, которые бы привели к нужному результату."
   ]
  },
  {
   "cell_type": "code",
   "execution_count": 41,
   "metadata": {
    "collapsed": true
   },
   "outputs": [],
   "source": [
    "#def foldl2(f, x0, lst):\n",
    "#    return foldr(..., ..., lst)(...)"
   ]
  },
  {
   "cell_type": "code",
   "execution_count": 42,
   "metadata": {
    "collapsed": true
   },
   "outputs": [],
   "source": [
    "#def foldr2(f, x0, lst):\n",
    "#    return foldl(..., ..., lst)(...)"
   ]
  },
  {
   "cell_type": "code",
   "execution_count": 43,
   "metadata": {
    "collapsed": true
   },
   "outputs": [],
   "source": [
    "def foldl2(f, x0, lst):\n",
    "    return foldr(lambda val, func: lambda x: func(f(x, val)), lambda base: base, lst)(x0)"
   ]
  },
  {
   "cell_type": "code",
   "execution_count": 44,
   "metadata": {
    "collapsed": true
   },
   "outputs": [],
   "source": [
    "def foldr2(f, x0, lst):\n",
    "    return foldl(lambda func, val: lambda x: func(f(val, x)), lambda base: base, lst)(x0)"
   ]
  },
  {
   "cell_type": "code",
   "execution_count": 45,
   "metadata": {},
   "outputs": [
    {
     "data": {
      "text/plain": [
       "6"
      ]
     },
     "execution_count": 45,
     "metadata": {},
     "output_type": "execute_result"
    }
   ],
   "source": [
    "foldl2(lambda x, y: x + y, 0, [1, 2, 3])"
   ]
  },
  {
   "cell_type": "code",
   "execution_count": 46,
   "metadata": {},
   "outputs": [
    {
     "data": {
      "text/plain": [
       "6"
      ]
     },
     "execution_count": 46,
     "metadata": {},
     "output_type": "execute_result"
    }
   ],
   "source": [
    "foldr2(lambda x, y: x + y, 0, [1, 2, 3])"
   ]
  },
  {
   "cell_type": "code",
   "execution_count": 47,
   "metadata": {},
   "outputs": [
    {
     "data": {
      "text/plain": [
       "'123'"
      ]
     },
     "execution_count": 47,
     "metadata": {},
     "output_type": "execute_result"
    }
   ],
   "source": [
    "foldl2(lambda x, y: '{}{}'.format(x, y), '', [1, 2, 3])"
   ]
  },
  {
   "cell_type": "code",
   "execution_count": 48,
   "metadata": {},
   "outputs": [
    {
     "data": {
      "text/plain": [
       "'123'"
      ]
     },
     "execution_count": 48,
     "metadata": {},
     "output_type": "execute_result"
    }
   ],
   "source": [
    "foldr2(lambda x, y: '{}{}'.format(x, y), '', [1, 2, 3])"
   ]
  },
  {
   "cell_type": "code",
   "execution_count": 49,
   "metadata": {},
   "outputs": [
    {
     "data": {
      "text/plain": [
       "(0.16666666666666666, 1.5)"
      ]
     },
     "execution_count": 49,
     "metadata": {},
     "output_type": "execute_result"
    }
   ],
   "source": [
    "f = lambda x, y: x / y\n",
    "foldl2(f, 1, [1, 2, 3]), \\\n",
    "foldr2(f, 1, [1, 2, 3])"
   ]
  },
  {
   "cell_type": "markdown",
   "metadata": {},
   "source": [
    "# Задание 2\n",
    "\n",
    "нужно написать функцию, которая принимает две строки и проверяет, входит ли хотя бы одна перестановка второй строки в первую. Например:\n",
    "\n",
    "> a = 'abcrotm'\n",
    "> \n",
    "> b = 'tro'\n",
    "\n",
    "функция def check_inv(a, b) вернет True, так как 'rot' содержится в 'abcrotm'. Нужно подумать как можно более оптимальный алгоритм и оценить его сложность. "
   ]
  },
  {
   "cell_type": "code",
   "execution_count": 50,
   "metadata": {},
   "outputs": [
    {
     "data": {
      "text/plain": [
       "True"
      ]
     },
     "execution_count": 50,
     "metadata": {},
     "output_type": "execute_result"
    }
   ],
   "source": [
    "from collections import Counter\n",
    "\n",
    "def is_anagram(a, b):\n",
    "    if Counter(b) == Counter(a):\n",
    "        return True\n",
    "    else:\n",
    "        return False\n",
    "    \n",
    "def check_inv(a,b):\n",
    "    for i in range(len(a) - len(b) + 1):\n",
    "        if is_anagram(a[i:i+len(b)],b):\n",
    "            return True\n",
    "        \n",
    "a = 'abcrotm'\n",
    "b = 'tro'\n",
    "check_inv(a,b)\n",
    "\n",
    "#Сложность O(m*n)"
   ]
  },
  {
   "cell_type": "markdown",
   "metadata": {},
   "source": [
    "# Задание 3\n",
    "\n",
    "Реализовать бинарное дерево (класс Tree), в нём методы __repr__, __str__, __iter__ (итерация только по листьям)."
   ]
  },
  {
   "cell_type": "code",
   "execution_count": 51,
   "metadata": {},
   "outputs": [
    {
     "data": {
      "text/plain": [
       "True"
      ]
     },
     "execution_count": 51,
     "metadata": {},
     "output_type": "execute_result"
    }
   ],
   "source": [
    "class Tree:\n",
    "    def __init__(self, value=None, left=None, right=None):\n",
    "        self.left = left\n",
    "        self.right = right\n",
    "        self.value = value\n",
    "        \n",
    "    def __iter__(self):\n",
    "        if self.left == None and self.right == None:\n",
    "            yield self.value\n",
    "        if self.left:\n",
    "            yield from self.left\n",
    "        if self.right:\n",
    "            yield from self.right\n",
    "    \n",
    "    def __str__(self):\n",
    "        return str([self.value, self.left, self.right])\n",
    "    \n",
    "    def __repr__(self):\n",
    "        return f'(NODE {self.value}, LEFT {repr(self.left)}, RIGHT {repr(self.right)})'\n",
    "    \n",
    "tree = Tree(0, Tree(1, Tree(3), Tree(4)), Tree(2))\n",
    "\n",
    "list(tree) == [3, 4, 2]"
   ]
  },
  {
   "cell_type": "markdown",
   "metadata": {},
   "source": [
    "# Задание 4\n",
    "\n",
    "Реализовать простейший калькулятор математических выражений:\n",
    "- только целые числа\n",
    "- **+**, **\\-**, **\\***, **\\**\n",
    "- скобки\n",
    "\n",
    "**Можно использовать регулярные выражения**"
   ]
  },
  {
   "cell_type": "code",
   "execution_count": 52,
   "metadata": {},
   "outputs": [
    {
     "data": {
      "text/plain": [
       "True"
      ]
     },
     "execution_count": 52,
     "metadata": {},
     "output_type": "execute_result"
    }
   ],
   "source": [
    "import re\n",
    "\n",
    "operations = {\n",
    "  \"+\": (lambda a, b: a + b),\n",
    "  \"-\": (lambda a, b: a - b),\n",
    "  \"*\": (lambda a, b: a * b),\n",
    "  \"/\": (lambda a, b: a / b)\n",
    "}\n",
    "\n",
    "def oper (s, op):\n",
    "    res = list(s)\n",
    "    for i in range(len(s)):\n",
    "        if s[i] == op:\n",
    "            left_idx = i - 1\n",
    "            left = ''\n",
    "            while s[left_idx] in '0123456789':\n",
    "                left = s[left_idx] + left\n",
    "                left_idx -= 1\n",
    "                if left_idx < 0:\n",
    "                    break\n",
    "            right_idx = i + 1\n",
    "            left_idx += 1\n",
    "            right = ''\n",
    "            while s[right_idx] in '0123456789':\n",
    "                right = right + s[right_idx]\n",
    "                right_idx += 1\n",
    "                if right_idx == len(s):\n",
    "                    break\n",
    "            tmp = operations[op](int(left),int(right))\n",
    "            for i in range(len(str(tmp))):\n",
    "                res[left_idx + i] = str(tmp)[i]\n",
    "            for i in range(left_idx + len(str(tmp)), right_idx):\n",
    "                res[i] = ''\n",
    "    return \"\".join(res)\n",
    "        \n",
    "def calc(s):\n",
    "    s = re.sub(r'[^-0-9()*+/]', '', s)\n",
    "    res = re.findall(r'[(][-0-9*+/]+', s)\n",
    "    tmp = []\n",
    "    for i in res:\n",
    "        tmp.append(oper(oper(oper(oper(i[1:], '*'), '/'), '-'), '+'))\n",
    "    for i in range(len(res)):\n",
    "        while s.find((res[i]+')')) > 0:\n",
    "            j = s.find((res[i]+')'))\n",
    "            s = s[:j] + tmp[i] + s[j+len(res[i]+')'):]\n",
    "    return oper(oper(oper(oper(s, '*'), '/'), '-'), '+')\n",
    "\n",
    "calc('2 * (15 - 3 * 4) - 2') == '4'"
   ]
  }
 ],
 "metadata": {
  "kernelspec": {
   "display_name": "Python 3",
   "language": "python",
   "name": "python3"
  },
  "language_info": {
   "codemirror_mode": {
    "name": "ipython",
    "version": 3
   },
   "file_extension": ".py",
   "mimetype": "text/x-python",
   "name": "python",
   "nbconvert_exporter": "python",
   "pygments_lexer": "ipython3",
   "version": "3.6.3"
  }
 },
 "nbformat": 4,
 "nbformat_minor": 2
}
